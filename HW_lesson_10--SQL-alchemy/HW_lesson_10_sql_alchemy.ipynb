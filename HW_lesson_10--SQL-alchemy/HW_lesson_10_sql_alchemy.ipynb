{
  "nbformat": 4,
  "nbformat_minor": 0,
  "metadata": {
    "colab": {
      "provenance": []
    },
    "kernelspec": {
      "name": "python3",
      "display_name": "Python 3"
    },
    "language_info": {
      "name": "python"
    }
  },
  "cells": [
    {
      "cell_type": "code",
      "execution_count": 1,
      "metadata": {
        "colab": {
          "base_uri": "https://localhost:8080/"
        },
        "id": "DAPyLBgcZAye",
        "outputId": "7e5df924-1ca1-40f2-8bed-f36addc4210d"
      },
      "outputs": [
        {
          "output_type": "stream",
          "name": "stdout",
          "text": [
            "Requirement already satisfied: sqlalchemy in /usr/local/lib/python3.10/dist-packages (2.0.27)\n",
            "Requirement already satisfied: typing-extensions>=4.6.0 in /usr/local/lib/python3.10/dist-packages (from sqlalchemy) (4.10.0)\n",
            "Requirement already satisfied: greenlet!=0.4.17 in /usr/local/lib/python3.10/dist-packages (from sqlalchemy) (3.0.3)\n"
          ]
        }
      ],
      "source": [
        "!pip install sqlalchemy"
      ]
    },
    {
      "cell_type": "code",
      "source": [
        "import sqlalchemy as db\n",
        "db.__version__"
      ],
      "metadata": {
        "colab": {
          "base_uri": "https://localhost:8080/",
          "height": 36
        },
        "id": "rZLtS6HpZWkz",
        "outputId": "08ef0aa9-31ba-40bb-c44a-26acc80ab394"
      },
      "execution_count": 16,
      "outputs": [
        {
          "output_type": "execute_result",
          "data": {
            "text/plain": [
              "'2.0.27'"
            ],
            "application/vnd.google.colaboratory.intrinsic+json": {
              "type": "string"
            }
          },
          "metadata": {},
          "execution_count": 16
        }
      ]
    },
    {
      "cell_type": "code",
      "source": [
        "engine = db.create_engine('sqlite:///product.db')\n",
        "\n",
        "connection = engine.connect()"
      ],
      "metadata": {
        "id": "LkeB3D9pZh-E"
      },
      "execution_count": 31,
      "outputs": []
    },
    {
      "cell_type": "code",
      "source": [
        "metadata = db.MetaData()"
      ],
      "metadata": {
        "id": "ub7gbF10aTPi"
      },
      "execution_count": 32,
      "outputs": []
    },
    {
      "cell_type": "code",
      "source": [
        "products = db.Table('products', metadata,\n",
        "      db.Column('product_id', db.Integer, primary_key=True),\n",
        "      db.Column('name', db.Text, ),\n",
        "      db.Column('product_company', db.Text, ),\n",
        "      db.Column('price', db.Integer, ),\n",
        ")\n"
      ],
      "metadata": {
        "id": "ux6WdTLra0oI"
      },
      "execution_count": 33,
      "outputs": []
    },
    {
      "cell_type": "code",
      "source": [
        "client = db.Table(\n",
        "    'client', metadata,\n",
        "    db.Column('client_id', db.Integer, primary_key=True),\n",
        "    db.Column('name', db.Text),\n",
        "    db.Column('order_number', db.Integer),\n",
        "    db.Column('order_product', db.Integer, db.ForeignKey('products.product_id'))\n",
        ")\n"
      ],
      "metadata": {
        "id": "EjwzEbGll-1r"
      },
      "execution_count": 34,
      "outputs": []
    },
    {
      "cell_type": "code",
      "source": [
        "metadata.create_all(engine)"
      ],
      "metadata": {
        "id": "pZ2VJ4KwlUhu"
      },
      "execution_count": 35,
      "outputs": []
    },
    {
      "cell_type": "code",
      "source": [
        "insertion = products.insert().values([\n",
        "    {'name': 'bananas', 'product_company': 'united bananas', 'price': 8000},\n",
        "    {'name': 'cucumbers', 'product_company': 'united cucumbers', 'price': 10000},\n",
        "    {'name': 'tomatoes', 'product_company': 'united tomatoes', 'price': 11000},\n",
        "    {'name': 'oranges', 'product_company': 'united otanges', 'price': 5000},\n",
        "])"
      ],
      "metadata": {
        "id": "YUn2xv2ydWm1"
      },
      "execution_count": 36,
      "outputs": []
    },
    {
      "cell_type": "code",
      "source": [
        "connection.execute(insertion)"
      ],
      "metadata": {
        "colab": {
          "base_uri": "https://localhost:8080/"
        },
        "id": "E08DrieQfqw-",
        "outputId": "e737c991-b094-4778-edc6-3aafd9213b6f"
      },
      "execution_count": 37,
      "outputs": [
        {
          "output_type": "execute_result",
          "data": {
            "text/plain": [
              "<sqlalchemy.engine.cursor.CursorResult at 0x7fb52622fc40>"
            ]
          },
          "metadata": {},
          "execution_count": 37
        }
      ]
    },
    {
      "cell_type": "code",
      "source": [
        "insertion = client.insert().values([\n",
        "    {'name': 'bananas_market', 'order_number': 1089, 'order_product': 1},\n",
        "    {'name': 'oranges_market', 'order_number': 8000, 'order_product': 4},\n",
        "    {'name': 'cucumbers_market', 'order_number': 152000, 'order_product': 2},\n",
        "    {'name': 'tomatoes_market', 'order_number': 3100, 'order_product': 3},\n",
        "])"
      ],
      "metadata": {
        "id": "u7UitEDc9uvU"
      },
      "execution_count": 38,
      "outputs": []
    },
    {
      "cell_type": "code",
      "source": [
        "connection.execute(insertion)"
      ],
      "metadata": {
        "colab": {
          "base_uri": "https://localhost:8080/"
        },
        "id": "r3TSU-LL-1xl",
        "outputId": "e865b4d6-c1db-49ff-caed-3d397e4a5b6c"
      },
      "execution_count": 39,
      "outputs": [
        {
          "output_type": "execute_result",
          "data": {
            "text/plain": [
              "<sqlalchemy.engine.cursor.CursorResult at 0x7fb52622fbe0>"
            ]
          },
          "metadata": {},
          "execution_count": 39
        }
      ]
    },
    {
      "cell_type": "code",
      "source": [
        "select_all = db.select(client)\n",
        "print(select_all)\n",
        "print('---------------------------------------')\n",
        "result = connection.execute(select_all)\n",
        "result.fetchall()"
      ],
      "metadata": {
        "colab": {
          "base_uri": "https://localhost:8080/"
        },
        "id": "2-JQrzQNgSIE",
        "outputId": "a280ecba-2452-4909-c85c-d601bcecca98"
      },
      "execution_count": 73,
      "outputs": [
        {
          "output_type": "stream",
          "name": "stdout",
          "text": [
            "SELECT client.client_id, client.name, client.order_number, client.order_product \n",
            "FROM client\n",
            "---------------------------------------\n"
          ]
        },
        {
          "output_type": "execute_result",
          "data": {
            "text/plain": [
              "[(1, 'bananas_market', 1089, 1),\n",
              " (2, 'oranges_market', 8000, 4),\n",
              " (3, 'cucumbers_market', 152000, 2),\n",
              " (4, 'tomatoes_market', 3100, 3)]"
            ]
          },
          "metadata": {},
          "execution_count": 73
        }
      ]
    },
    {
      "cell_type": "code",
      "source": [
        "#union\n",
        "select_products = db.select(products)\n",
        "select_client = db.select(client)\n",
        "un = select_products.union(select_client)\n",
        "print(un)\n",
        "print('---------------------------------------')\n",
        "un_result = connection.execute(un)\n",
        "un_result.fetchall()"
      ],
      "metadata": {
        "colab": {
          "base_uri": "https://localhost:8080/"
        },
        "id": "fPfSPDrGNI6e",
        "outputId": "7f0f3164-91f9-4e90-f709-8f57128f4c68"
      },
      "execution_count": 72,
      "outputs": [
        {
          "output_type": "stream",
          "name": "stdout",
          "text": [
            "SELECT products.product_id, products.name, products.product_company, products.price \n",
            "FROM products UNION SELECT client.client_id, client.name, client.order_number, client.order_product \n",
            "FROM client\n",
            "---------------------------------------\n"
          ]
        },
        {
          "output_type": "execute_result",
          "data": {
            "text/plain": [
              "[(1, 'bananas', 'united bananas', 8000),\n",
              " (1, 'bananas_market', 1089, 1),\n",
              " (2, 'cucumbers', 'united cucumbers', 10000),\n",
              " (2, 'oranges_market', 8000, 4),\n",
              " (3, 'cucumbers_market', 152000, 2),\n",
              " (3, 'tomatoes', 'united tomatoes', 11000),\n",
              " (4, 'oranges', 'united otanges', 5000),\n",
              " (4, 'tomatoes_market', 3100, 3)]"
            ]
          },
          "metadata": {},
          "execution_count": 72
        }
      ]
    },
    {
      "cell_type": "code",
      "source": [
        "# join\n",
        "stmt = client.outerjoin(products, client.c.order_product == products.c.product_id)\n",
        "stmt = stmt.select()\n",
        "print(stmt)\n",
        "print('---------------------------------------')\n",
        "stmt_result = connection.execute(stmt)\n",
        "stmt_result.fetchall()"
      ],
      "metadata": {
        "colab": {
          "base_uri": "https://localhost:8080/"
        },
        "id": "O2HPVNOnZAsK",
        "outputId": "596cdda1-bf47-4273-964f-423122d0df25"
      },
      "execution_count": 71,
      "outputs": [
        {
          "output_type": "stream",
          "name": "stdout",
          "text": [
            "SELECT client.client_id, client.name, client.order_number, client.order_product, products.product_id, products.name AS name_1, products.product_company, products.price \n",
            "FROM client LEFT OUTER JOIN products ON client.order_product = products.product_id\n",
            "---------------------------------------\n"
          ]
        },
        {
          "output_type": "execute_result",
          "data": {
            "text/plain": [
              "[(1, 'bananas_market', 1089, 1, 1, 'bananas', 'united bananas', 8000),\n",
              " (2, 'oranges_market', 8000, 4, 4, 'oranges', 'united otanges', 5000),\n",
              " (3, 'cucumbers_market', 152000, 2, 2, 'cucumbers', 'united cucumbers', 10000),\n",
              " (4, 'tomatoes_market', 3100, 3, 3, 'tomatoes', 'united tomatoes', 11000)]"
            ]
          },
          "metadata": {},
          "execution_count": 71
        }
      ]
    },
    {
      "cell_type": "code",
      "source": [
        "# group by by / having\n",
        "tmp_select = db.select(products, db.func.max(products.c.price).label(\"max\")).group_by(products.c.price).having(db.func.max(products.c.price) > 10000)\n",
        "\n",
        "print(tmp_select)\n",
        "print('---------------------------------------')\n",
        "tmp_select_result = connection.execute(tmp_select)\n",
        "tmp_select_result.fetchall()"
      ],
      "metadata": {
        "colab": {
          "base_uri": "https://localhost:8080/"
        },
        "id": "aVQeCAS9cFs8",
        "outputId": "025c60ae-c1d7-4572-e3ea-f9cb6c70083c"
      },
      "execution_count": 70,
      "outputs": [
        {
          "output_type": "stream",
          "name": "stdout",
          "text": [
            "SELECT products.product_id, products.name, products.product_company, products.price, max(products.price) AS max \n",
            "FROM products GROUP BY products.price \n",
            "HAVING max(products.price) > :max_1\n",
            "---------------------------------------\n"
          ]
        },
        {
          "output_type": "execute_result",
          "data": {
            "text/plain": [
              "[(3, 'tomatoes', 'united tomatoes', 11000, 11000)]"
            ]
          },
          "metadata": {},
          "execution_count": 70
        }
      ]
    }
  ]
}
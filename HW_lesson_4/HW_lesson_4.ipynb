{
  "nbformat": 4,
  "nbformat_minor": 0,
  "metadata": {
    "colab": {
      "provenance": []
    },
    "kernelspec": {
      "name": "python3",
      "display_name": "Python 3"
    },
    "language_info": {
      "name": "python"
    }
  },
  "cells": [
    {
      "cell_type": "code",
      "execution_count": 2,
      "metadata": {
        "colab": {
          "base_uri": "https://localhost:8080/"
        },
        "id": "2dO8Baa8AKTd",
        "outputId": "db212b79-3a2a-4a2b-ce4b-f92bfe797d2c"
      },
      "outputs": [
        {
          "output_type": "execute_result",
          "data": {
            "text/plain": [
              "{1: {'d': 7}, 2: {'g': 5}, 3: {'s': 2, 'f': 2, 'k': 2, 'h': 2, 'n': 2}}"
            ]
          },
          "metadata": {},
          "execution_count": 2
        }
      ],
      "source": [
        "#  На основании строки определить 3 наиболее часто встречаемых символа в\n",
        "# ней. Пробелы нужно игнорировать (не учитывать при подсчете). Для простоты\n",
        "# подсчета количества вхождений символов удобно использовать Counter из\n",
        "# модуля collections.\n",
        "\n",
        "a = 'sdgsdgdfjdgkdtkgdghnndfh'\n",
        "\n",
        "def count_it(sequence):\n",
        "\n",
        "  res = {}\n",
        "  f_1 = 0\n",
        "  f_2 = 0\n",
        "  f_3 = 0\n",
        "\n",
        "  for i in range(len(a)):\n",
        "    tmp = a[i]\n",
        "\n",
        "    if res.get(tmp) != None:\n",
        "      res[tmp] = res.get(tmp) + 1\n",
        "      if res.get(tmp) >= f_1:\n",
        "        f_1 = res[tmp]\n",
        "      elif res.get(tmp) >= f_2:\n",
        "        f_2 = res[tmp]\n",
        "      elif res.get(tmp) >= f_3:\n",
        "        f_3 = res[tmp]\n",
        "    else:\n",
        "      res[tmp] = 1\n",
        "\n",
        "  result = {\n",
        "      1:{},\n",
        "      2:{},\n",
        "      3:{},\n",
        "  }\n",
        "\n",
        "  for key in res.keys():\n",
        "    if res.get(key) == f_1:\n",
        "      result[1][key] = f_1\n",
        "    if res.get(key) == f_2:\n",
        "      result[2][key] = f_2\n",
        "    if res.get(key) == f_3:\n",
        "      result[3][key] = f_3\n",
        "\n",
        "  return result\n",
        "\n",
        "count_it(a)\n"
      ]
    },
    {
      "cell_type": "code",
      "source": [
        "# Дана строка в виде случайной последовательности чисел от 0 до 9. Требуется\n",
        "# создать словарь, который в качестве ключей будет принимать данные числа (т.\n",
        "# е. ключи будут типом int), а в качестве значений – количество этих чисел в\n",
        "# имеющейся последовательности. Для построения словаря создайте функцию\n",
        "# count_it(sequence), принимающую строку из цифр. Функция должна\n",
        "# возвратить словарь из 3-х самых часто встречаемых чисел.\n",
        "\n",
        "a = '2133389865132118479844311148465413113579846121'\n",
        "\n",
        "def count_it(sequence):\n",
        "\n",
        "  res = {}\n",
        "  f_1 = 0\n",
        "  f_2 = 0\n",
        "  f_3 = 0\n",
        "\n",
        "  for i in range(len(a)):\n",
        "    tmp = int(a[i])\n",
        "\n",
        "    if res.get(tmp) != None:\n",
        "      res[tmp] = res.get(tmp) + 1\n",
        "      if res.get(tmp) >= f_1:\n",
        "        f_1 = res[tmp]\n",
        "      elif res.get(tmp) >= f_2:\n",
        "        f_2 = res[tmp]\n",
        "      elif res.get(tmp) >= f_3:\n",
        "        f_3 = res[tmp]\n",
        "    else:\n",
        "      res[tmp] = 1\n",
        "\n",
        "  result = {\n",
        "      1:{},\n",
        "      2:{},\n",
        "      3:{},\n",
        "  }\n",
        "\n",
        "  for key in res.keys():\n",
        "    if res.get(key) == f_1:\n",
        "      result[1][key] = f_1\n",
        "    if res.get(key) == f_2:\n",
        "      result[2][key] = f_2\n",
        "    if res.get(key) == f_3:\n",
        "      result[3][key] = f_3\n",
        "\n",
        "  return result\n",
        "\n",
        "count_it(a)\n"
      ],
      "metadata": {
        "id": "jBfRU10VBC1C"
      },
      "execution_count": null,
      "outputs": []
    },
    {
      "cell_type": "code",
      "source": [
        "# Шахматы. у вас есть стандартное поле 8*8, после введения координат (a, b)\n",
        "# нахождения вашей фигуры и фигуры соперника (с, d), необходимо получить\n",
        "# ответ, угрожает ли вражеская фигура вам\n",
        "# 1) вражеская фигура ферзь\n",
        "# 2) вражеская фигура конь\n",
        "\n",
        "def queen(a,b):\n",
        "  if a[0] > 8 or a[0] < 1:\n",
        "    print(\"error\")\n",
        "    return\n",
        "  if a[1] > 8 or a[1] < 1:\n",
        "    print(\"error\")\n",
        "    return\n",
        "  if b[0] > 8 or b[0] < 1:\n",
        "    print(\"error\")\n",
        "    return\n",
        "  if b[1] > 8 or b[1] < 1:\n",
        "    print(\"error\")\n",
        "    return\n",
        "\n",
        "  sum_a = a[0] + a[1]\n",
        "  sum_b = b[0] + b[1]\n",
        "  sub_a = a[0] - a[1]\n",
        "  sub_b = b[0] - b[1]\n",
        "\n",
        "  if sum_a == sum_b or sub_a == sub_b:\n",
        "    print('warning')\n",
        "  elif a[0] == b[0] or a[1] == b[1]:\n",
        "    print('warning')\n",
        "  else:\n",
        "    print('not warning')\n",
        "queen((1,8),(5,8))\n",
        "\n",
        "\n",
        "def knight(a,b):\n",
        "  if a[0] > 8 or a[0] < 1:\n",
        "    print(\"error\")\n",
        "    return\n",
        "  if a[1] > 8 or a[1] < 1:\n",
        "    print(\"error\")\n",
        "    return\n",
        "  if b[0] > 8 or b[0] < 1:\n",
        "    print(\"error\")\n",
        "    return\n",
        "  if b[1] > 8 or b[1] < 1:\n",
        "    print(\"error\")\n",
        "    return\n",
        "\n",
        "  if (b[0]-a[0]==-1 or b[0]-a[0]==1) and (b[1]-a[1]==2 or b[1]-b[1]==-2):\n",
        "    print('warning')\n",
        "  elif (b[0] - a[0] == -2 or b[0] - a[0] == 2) and (b[1] - a[1] == 1 or b[1] - b[1] == -1):\n",
        "    print('warning')\n",
        "  else:\n",
        "    print('not warning')\n",
        "knight((7,4),(4,7))"
      ],
      "metadata": {
        "colab": {
          "base_uri": "https://localhost:8080/"
        },
        "id": "IjmEKR-zBM27",
        "outputId": "78fff447-7918-472b-fc6b-ac0f25583886"
      },
      "execution_count": 3,
      "outputs": [
        {
          "output_type": "stream",
          "name": "stdout",
          "text": [
            "warning\n",
            "not warning\n"
          ]
        }
      ]
    }
  ]
}
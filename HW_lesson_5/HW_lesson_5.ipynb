{
  "nbformat": 4,
  "nbformat_minor": 0,
  "metadata": {
    "colab": {
      "provenance": []
    },
    "kernelspec": {
      "name": "python3",
      "display_name": "Python 3"
    },
    "language_info": {
      "name": "python"
    }
  },
  "cells": [
    {
      "cell_type": "code",
      "source": [
        "# 1. Напишите функцию для разделения строки и преобразования ее в список\n",
        "# слов. Пример \"Robin Singh\" ==> [\"Robin\", \"Singh\"]\n",
        "\n",
        "def separate(str) -> list:\n",
        "  return str.split()\n",
        "separate('Robin Singh qweqeqwe tyrnbnfgh')"
      ],
      "metadata": {
        "colab": {
          "base_uri": "https://localhost:8080/"
        },
        "id": "K1P5KRYcjiPP",
        "outputId": "bd36ff45-4f68-47ec-999b-4c87a74af224"
      },
      "execution_count": null,
      "outputs": [
        {
          "output_type": "execute_result",
          "data": {
            "text/plain": [
              "['Robin', 'Singh', 'qweqeqwe', 'tyrnbnfgh']"
            ]
          },
          "metadata": {},
          "execution_count": 247
        }
      ]
    },
    {
      "cell_type": "code",
      "source": [
        "# 2. Натан любит кататься на велосипеде. Поскольку Натан знает, как важно\n",
        "# избегать обезвоживания, он выпивает 0,5 литра воды за час езды на\n",
        "# велосипеде. Вам дано время в часах, и вам нужно вернуть количество\n",
        "# литров, которое выпьет Натан, округленное до наименьшего значения.\n",
        "# Пример time = 3 ----> litres = 1\n",
        "\n",
        "def bul_bul(hours):\n",
        "  litres = hours * 0.5\n",
        "  return litres // 1\n",
        "bul_bul(33)\n",
        "# math.trunc()"
      ],
      "metadata": {
        "colab": {
          "base_uri": "https://localhost:8080/"
        },
        "id": "hwiB_4myQdH5",
        "outputId": "af08717a-00b8-46a9-c8bd-368826ec73e8"
      },
      "execution_count": null,
      "outputs": [
        {
          "output_type": "execute_result",
          "data": {
            "text/plain": [
              "16.0"
            ]
          },
          "metadata": {},
          "execution_count": 10
        }
      ]
    },
    {
      "cell_type": "code",
      "source": [
        "# 3. Создайте функцию, которая возвращает список целых чисел от n до 1,\n",
        "# где n>0. Пример: n=5-->[5,4,3,2,1]\n",
        "def list_num(n):\n",
        "  if n <= 0: return\n",
        "\n",
        "  a = [i + 1 * 1 for i in range(n)[::-1]]\n",
        "  return a\n",
        "list_num(10)"
      ],
      "metadata": {
        "colab": {
          "base_uri": "https://localhost:8080/"
        },
        "id": "JXxXVNjJQfjg",
        "outputId": "423724b8-73d4-4470-b970-0fe723e6094e"
      },
      "execution_count": null,
      "outputs": [
        {
          "output_type": "execute_result",
          "data": {
            "text/plain": [
              "[10, 9, 8, 7, 6, 5, 4, 3, 2, 1]"
            ]
          },
          "metadata": {},
          "execution_count": 24
        }
      ]
    },
    {
      "cell_type": "code",
      "source": [
        "# 4. Учитывая год, верните столетие, в котором он находится.\n",
        "# Пример 1705 --> 18 1900 --> 19 1601 --> 17\n",
        "def century(num):\n",
        "  if num <= 0: return\n",
        "  a = num // 100 + 1\n",
        "  return a\n",
        "century(2024)"
      ],
      "metadata": {
        "colab": {
          "base_uri": "https://localhost:8080/"
        },
        "id": "t0_lvw2vQgBD",
        "outputId": "6c1ea878-fe29-4b9a-e720-f654fd923fb3"
      },
      "execution_count": null,
      "outputs": [
        {
          "output_type": "execute_result",
          "data": {
            "text/plain": [
              "21"
            ]
          },
          "metadata": {},
          "execution_count": 29
        }
      ]
    },
    {
      "cell_type": "code",
      "source": [
        "# 5. Учитывая случайное неотрицательное число, вам необходимо вернуть\n",
        "# цифры этого числа в массиве в обратном порядке. 35231 => [1,3,2,5,3]\n",
        "def any_number_list(num):\n",
        "\n",
        "  a = reversed(str(num))\n",
        "  b = []\n",
        "\n",
        "  for i in a:\n",
        "    b.append(int(i))\n",
        "\n",
        "  return b\n",
        "\n",
        "any_number_list(35231)"
      ],
      "metadata": {
        "colab": {
          "base_uri": "https://localhost:8080/"
        },
        "id": "nEdsz4L4QgEY",
        "outputId": "a65fc666-dd37-4631-e90f-7f3c01b558a1"
      },
      "execution_count": null,
      "outputs": [
        {
          "output_type": "execute_result",
          "data": {
            "text/plain": [
              "[1, 3, 2, 5, 3]"
            ]
          },
          "metadata": {},
          "execution_count": 244
        }
      ]
    },
    {
      "cell_type": "code",
      "source": [
        "# Получить квадратные матрицы порядка n (через список как на\n",
        "# занятии), элементами которых являются заданные\n",
        "# действительные числа 1, 2, ..., n*n, расположенные в ней по схемам,\n",
        "# которые приведены на рисунках\n",
        "n = 8\n",
        "def matrix_down_up(n):\n",
        "  mat_down_up = []\n",
        "  for i in range(n):\n",
        "    a = []\n",
        "    b = 0\n",
        "    for j in range(n):\n",
        "      if j % 2 > 0:\n",
        "        b = (j + 1) * n - i\n",
        "      if j % 2 == 0:\n",
        "        if j == 0:\n",
        "          b = (i + 1)\n",
        "        else:\n",
        "          b = (i + 1) + b + i\n",
        "\n",
        "      a.append(b)\n",
        "    mat_down_up.append(a)\n",
        "  return mat_down_up\n",
        "\n",
        "matrix_down_up(n)"
      ],
      "metadata": {
        "colab": {
          "base_uri": "https://localhost:8080/"
        },
        "id": "JDGdM5PZQisA",
        "outputId": "7a9d94f6-8e42-44e7-ec98-b29a39e99dbc"
      },
      "execution_count": null,
      "outputs": [
        {
          "output_type": "execute_result",
          "data": {
            "text/plain": [
              "[[1, 16, 17, 32, 33, 48, 49, 64],\n",
              " [2, 15, 18, 31, 34, 47, 50, 63],\n",
              " [3, 14, 19, 30, 35, 46, 51, 62],\n",
              " [4, 13, 20, 29, 36, 45, 52, 61],\n",
              " [5, 12, 21, 28, 37, 44, 53, 60],\n",
              " [6, 11, 22, 27, 38, 43, 54, 59],\n",
              " [7, 10, 23, 26, 39, 42, 55, 58],\n",
              " [8, 9, 24, 25, 40, 41, 56, 57]]"
            ]
          },
          "metadata": {},
          "execution_count": 7
        }
      ]
    },
    {
      "cell_type": "code",
      "source": [
        "n = 8\n",
        "\n",
        "def matrix_right_left(n):\n",
        "  mat_right_left = []\n",
        "  b = 0\n",
        "  for i in range(n):\n",
        "    a = []\n",
        "\n",
        "    for j in range(n):\n",
        "\n",
        "      if i % 2 == 0:\n",
        "        if j == 0 and i > 0:\n",
        "          b = b\n",
        "        else:\n",
        "          b = b + 1\n",
        "\n",
        "      if i % 2 > 0:\n",
        "        if j > 0:\n",
        "          b = b - 1\n",
        "\n",
        "      a.append(b)\n",
        "\n",
        "    b = b + n\n",
        "\n",
        "    mat_right_left.append(a)\n",
        "  return mat_right_left\n",
        "\n",
        "matrix_right_left(n)"
      ],
      "metadata": {
        "colab": {
          "base_uri": "https://localhost:8080/"
        },
        "id": "6AfA74ILxw0e",
        "outputId": "60396955-2c92-4aa9-c149-0958a423df8a"
      },
      "execution_count": null,
      "outputs": [
        {
          "output_type": "execute_result",
          "data": {
            "text/plain": [
              "[[1, 2, 3, 4, 5, 6, 7, 8],\n",
              " [16, 15, 14, 13, 12, 11, 10, 9],\n",
              " [17, 18, 19, 20, 21, 22, 23, 24],\n",
              " [32, 31, 30, 29, 28, 27, 26, 25],\n",
              " [33, 34, 35, 36, 37, 38, 39, 40],\n",
              " [48, 47, 46, 45, 44, 43, 42, 41],\n",
              " [49, 50, 51, 52, 53, 54, 55, 56],\n",
              " [64, 63, 62, 61, 60, 59, 58, 57]]"
            ]
          },
          "metadata": {},
          "execution_count": 5
        }
      ]
    }
  ]
}
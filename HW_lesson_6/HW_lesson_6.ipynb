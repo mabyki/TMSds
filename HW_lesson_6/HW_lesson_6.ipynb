{
  "nbformat": 4,
  "nbformat_minor": 0,
  "metadata": {
    "colab": {
      "provenance": []
    },
    "kernelspec": {
      "name": "python3",
      "display_name": "Python 3"
    },
    "language_info": {
      "name": "python"
    }
  },
  "cells": [
    {
      "cell_type": "code",
      "execution_count": null,
      "metadata": {
        "colab": {
          "base_uri": "https://localhost:8080/"
        },
        "id": "jCToYQ2zL_y5",
        "outputId": "858b1c57-3dfc-49c6-bbce-47e3cf8017c3"
      },
      "outputs": [
        {
          "output_type": "stream",
          "name": "stdout",
          "text": [
            "['7', '12', '56', '71', '13', '9', '112', '66', '3']\n",
            "3\n",
            "112\n"
          ]
        }
      ],
      "source": [
        "# В этом небольшом задании вам дается строка чисел, разделенных пробелами,\n",
        "# и вы должны вернуть наибольшее и наименьшее число.\n",
        "\n",
        "str_num = '7 12 56 71 13 9 112 66 3 '\n",
        "list_num = str_num.split()\n",
        "print(list_num)\n",
        "\n",
        "min_num = min(list_num, key=lambda i: int(i))\n",
        "max_num = max(list_num, key=lambda i: int(i))\n",
        "\n",
        "print(min_num)\n",
        "print(max_num)"
      ]
    },
    {
      "cell_type": "code",
      "source": [
        "# Банкоматы допускают использование 4- или 6-значных PIN-кодов, а PIN-коды не\n",
        "# могут содержать ничего, кроме ровно 4 или ровно 6 цифр. Если функции\n",
        "# передана действительная строка PIN-кода, return true, иначе return false.\n",
        "\n",
        "def ATM(pin: str) -> bool:\n",
        "    if isinstance(pin, str) and pin.isdigit() and len(pin) == 4 or len(pin) == 6:\n",
        "      return True\n",
        "    else:\n",
        "      return False\n",
        "\n",
        "ATM('666666')"
      ],
      "metadata": {
        "id": "zbhehck_Q5R1",
        "colab": {
          "base_uri": "https://localhost:8080/"
        },
        "outputId": "9b15be3d-a5d9-4c45-eb91-0efa448ca65b"
      },
      "execution_count": 31,
      "outputs": [
        {
          "output_type": "execute_result",
          "data": {
            "text/plain": [
              "True"
            ]
          },
          "metadata": {},
          "execution_count": 31
        }
      ]
    },
    {
      "cell_type": "code",
      "source": [
        "import math\n",
        "# Учитывая целое число, определите, является ли оно квадратным : В\n",
        "# математике квадратное число или идеальный квадрат — это целое число,\n",
        "# которое является квадратом целого числа; другими словами, это\n",
        "# произведение некоторого целого числа само на себя. На вход список, на\n",
        "# выходе список чисел\n",
        "\n",
        "def check_sqrt(lst: list) -> list:\n",
        "  result = []\n",
        "  for i in lst:\n",
        "    if math.sqrt(i) % 1 == 0:\n",
        "      result.append(i)\n",
        "  return result\n",
        "\n",
        "check_sqrt([1,3,4,5,8,9,16,24,36])"
      ],
      "metadata": {
        "id": "r-cOeBwiRTkJ",
        "colab": {
          "base_uri": "https://localhost:8080/"
        },
        "outputId": "79c493ee-8492-4194-e334-6f540888ed67"
      },
      "execution_count": 22,
      "outputs": [
        {
          "output_type": "execute_result",
          "data": {
            "text/plain": [
              "[1, 4, 9, 16, 36]"
            ]
          },
          "metadata": {},
          "execution_count": 22
        }
      ]
    },
    {
      "cell_type": "code",
      "source": [
        "# Реализуйте функцию unique_in_order, которая принимает в качестве аргумента\n",
        "# последовательность и возвращает список элементов без каких-либо элементов\n",
        "# с одинаковым значением рядом друг с другом и сохраняет исходный порядок\n",
        "# элементов.\n",
        "\n",
        "def unique_in_order(lst: list) -> list:\n",
        "  result = []\n",
        "  for i in range(len(lst)):\n",
        "    if lst[i] == lst[i-1]:\n",
        "      continue\n",
        "    else:\n",
        "      result.append(lst[i])\n",
        "  return result\n",
        "\n",
        "unique_in_order([1,1,2,3,4,5,5,5,5,5,'h','h',6,10])"
      ],
      "metadata": {
        "id": "QkQwNe8vRVcK",
        "colab": {
          "base_uri": "https://localhost:8080/"
        },
        "outputId": "58eb30a4-e8fd-411a-d4dc-f496ec8983d6"
      },
      "execution_count": 24,
      "outputs": [
        {
          "output_type": "execute_result",
          "data": {
            "text/plain": [
              "[1, 2, 3, 4, 5, 'h', 6, 10]"
            ]
          },
          "metadata": {},
          "execution_count": 24
        }
      ]
    },
    {
      "cell_type": "code",
      "source": [
        "# Просто, учитывая строку слов, верните длину самого короткого слова (слов).\n",
        "# Строка никогда не будет пустой, и вам не нужно учитывать разные типы данных.\n",
        "\n",
        "line = 'Lorem ipsum dolor sit amet, consectetur adipiscing elit. Vivamus vitae.'\n",
        "\n",
        "def short_word(line: str) -> int:\n",
        "  result = 100\n",
        "  lst_words = line.split()\n",
        "  for i in lst_words:\n",
        "    if len(i) < result:\n",
        "      result = len(i)\n",
        "  return result\n",
        "\n",
        "short_word(line)"
      ],
      "metadata": {
        "id": "LCI_f7ocRYl3",
        "colab": {
          "base_uri": "https://localhost:8080/"
        },
        "outputId": "7f88544e-fb3c-44d3-bce4-d101a7702ac5"
      },
      "execution_count": 30,
      "outputs": [
        {
          "output_type": "execute_result",
          "data": {
            "text/plain": [
              "3"
            ]
          },
          "metadata": {},
          "execution_count": 30
        }
      ]
    },
    {
      "cell_type": "code",
      "source": [
        "# Цифровой корень — это рекурсивная сумма всех цифр числа. Учитывая n,\n",
        "# возьмите сумму цифр n. Если это значение имеет более одной цифры,\n",
        "# продолжайте уменьшать таким образом, пока не получите однозначное число.\n",
        "# Входные данные будут неотрицательным целым числом.\n",
        "\n",
        "def digital_root(num: int):\n",
        "  result = 0\n",
        "\n",
        "  for i in str(num):\n",
        "    result += int(i)\n",
        "\n",
        "  if len(str(num)) > 1:\n",
        "    return digital_root(result)\n",
        "  else:\n",
        "    return result\n",
        "\n",
        "digital_root(12345678910)"
      ],
      "metadata": {
        "id": "P8Za1mvCRcj5",
        "colab": {
          "base_uri": "https://localhost:8080/"
        },
        "outputId": "b9cc3910-04dd-44b1-ab24-c061f951b745"
      },
      "execution_count": 39,
      "outputs": [
        {
          "output_type": "execute_result",
          "data": {
            "text/plain": [
              "1"
            ]
          },
          "metadata": {},
          "execution_count": 39
        }
      ]
    },
    {
      "cell_type": "code",
      "source": [
        "# Вам будет предоставлено слово. Ваша задача — вернуть средний символ\n",
        "# слова. Если длина слова нечетная, верните средний символ. Если длина слова\n",
        "# четная, верните 2 средних символа.\n",
        "\n",
        "word = 'asdfghj'\n",
        "\n",
        "def middle_char(word: str) -> str:\n",
        "  result = ''\n",
        "  if len(word) % 2 == 0:\n",
        "    middle = int(len(word) / 2)\n",
        "    result = word[middle - 1] + word[middle]\n",
        "  else:\n",
        "    result = word[len(word) // 2]\n",
        "\n",
        "  return result\n",
        "\n",
        "middle_char(word)"
      ],
      "metadata": {
        "id": "XCBwrZ89RjeJ",
        "colab": {
          "base_uri": "https://localhost:8080/",
          "height": 36
        },
        "outputId": "c507eb12-281a-434f-f377-d2a4ff1d5866"
      },
      "execution_count": 49,
      "outputs": [
        {
          "output_type": "execute_result",
          "data": {
            "text/plain": [
              "'f'"
            ],
            "application/vnd.google.colaboratory.intrinsic+json": {
              "type": "string"
            }
          },
          "metadata": {},
          "execution_count": 49
        }
      ]
    },
    {
      "cell_type": "code",
      "source": [
        "# Определите функцию, которая принимает целочисленный аргумент и\n",
        "# возвращает логическое значение true или false в зависимости от того, является\n",
        "# ли целое число простым.\n",
        "\n",
        "def prime_number(num: int) -> bool:\n",
        "\n",
        "  result = True\n",
        "\n",
        "  for i in range(2, num):\n",
        "    if (num / i) % 1 == 0:\n",
        "      result = False\n",
        "\n",
        "  return result\n",
        "\n",
        "prime_number(81)"
      ],
      "metadata": {
        "id": "RfT4ieOYRnc8",
        "colab": {
          "base_uri": "https://localhost:8080/"
        },
        "outputId": "dd30d5f5-a710-4878-8b5e-6e286feeabf4"
      },
      "execution_count": 69,
      "outputs": [
        {
          "output_type": "execute_result",
          "data": {
            "text/plain": [
              "False"
            ]
          },
          "metadata": {},
          "execution_count": 69
        }
      ]
    },
    {
      "cell_type": "code",
      "source": [
        "# Учитывая список целых чисел, определите, является ли сумма его элементов\n",
        "# нечетной или четной.\n",
        "\n",
        "arr = [1, 4, 6, 18, 54, 111, 66, 40, 81]\n",
        "\n",
        "def even_odd(arr: list) -> str:\n",
        "  result = ''\n",
        "  sum = 0\n",
        "  for i in arr:\n",
        "    sum += i\n",
        "  if sum % 2 == 0:\n",
        "    result = 'четная'\n",
        "  else:\n",
        "    result = 'нечетная'\n",
        "  print(sum)\n",
        "  return result\n",
        "\n",
        "even_odd(arr)"
      ],
      "metadata": {
        "id": "WDaOtZ8FRrCi",
        "colab": {
          "base_uri": "https://localhost:8080/",
          "height": 53
        },
        "outputId": "b4e94bac-6fb2-4fdd-8255-eed6f07457c3"
      },
      "execution_count": 53,
      "outputs": [
        {
          "output_type": "stream",
          "name": "stdout",
          "text": [
            "381\n"
          ]
        },
        {
          "output_type": "execute_result",
          "data": {
            "text/plain": [
              "'нечетная'"
            ],
            "application/vnd.google.colaboratory.intrinsic+json": {
              "type": "string"
            }
          },
          "metadata": {},
          "execution_count": 53
        }
      ]
    }
  ]
}